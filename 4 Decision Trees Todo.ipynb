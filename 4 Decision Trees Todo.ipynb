{
 "cells": [
  {
   "cell_type": "code",
   "execution_count": 1,
   "metadata": {},
   "outputs": [],
   "source": [
    "# import symbolic capability to Python\n",
    "from sympy import *\n",
    "# print things all pretty\n",
    "from sympy.abc import *\n",
    "from sympy.plotting import plot\n",
    "import matplotlib.pyplot as plt\n",
    "import numpy as np\n",
    "from IPython.display import display\n",
    "init_printing()"
   ]
  },
  {
   "cell_type": "markdown",
   "metadata": {},
   "source": [
    "# Exercise\n",
    "\n",
    "You have a dataset with $m$ binary columns and $n$ rows. A given decision tree has the depth $d$.\n",
    "\n",
    "## Questions:\n",
    "1. How many different decision trees with depth $d=1$ are possible for a dataset with $m$ binary columns and $n$ rows?\n",
    "2. How many different decision trees with depth $d=2$ are possible for a dataset with $m$ binary columns and $n$ rows?\n",
    "3. How many different decision trees with depth $d=3$ are possible for a dataset with $m$ binary columns and $n$ rows?\n",
    "4. How many different decision trees with depth $d=4$ are possible for a dataset with $m$ binary columns and $n$ rows?\n",
    "5. In general, how many different decision trees with depth $d$ are possible for a dataset with $m$ binary columns and $n$ rows?\n",
    "6. How may different decision trees are possible for $m=4$ and $d=4$?\n",
    "7. In general, how many different decision trees of any depth are possible for a dataset with $m$ binary columns and $n$ rows?\n",
    "8. How many decision trees are possible for $m=4$ binary columns?\n",
    "9. There are $10^{80}$ atoms in the universe. What is the value for $m$ so that the number of decision trees is greater than the number of atoms in the universe?\n",
    "10. How many operations (steps) does the naive testing take of all possible decision trees for a dataset with $m$ binary columns and $n$ rows?\n",
    "11. How many operations (steps) does the naive testing take of all possible decision trees for a dataset with $m=3$ binary columns and $n=100$ rows?"
   ]
  },
  {
   "cell_type": "markdown",
   "metadata": {},
   "source": [
    "Variables:\n",
    "* $n$: number of rows of the data\n",
    "* $m$: number of binary columns (attributes) of the data\n",
    "* $d$: depth of the decision tree"
   ]
  },
  {
   "cell_type": "code",
   "execution_count": 2,
   "metadata": {},
   "outputs": [],
   "source": [
    "m = symbols(\"m\", positive=True, integer=True)\n",
    "d = symbols(\"d\", positive=True, integer=True)\n",
    "n = symbols(\"n\", positive=True, integer=True)"
   ]
  },
  {
   "cell_type": "markdown",
   "metadata": {},
   "source": [
    "## Answers:\n",
    "\n",
    "Todo"
   ]
  },
  {
   "cell_type": "code",
   "execution_count": 3,
   "metadata": {},
   "outputs": [
    {
     "data": {
      "image/png": "[encoded data removed]",
      "text/latex": [
       "$\\displaystyle \\frac{m!}{\\left(- 2^{d} + m + 1\\right)!}$"
      ],
      "text/plain": [
       "       m!      \n",
       "───────────────\n",
       "⎛   d        ⎞ \n",
       "⎝- 2  + m + 1⎠!"
      ]
     },
     "execution_count": 3,
     "metadata": {},
     "output_type": "execute_result"
    }
   ],
   "source": [
    "#number of nodes\n",
    "k = 2**d-1\n",
    "\n",
    "#number of layer\n",
    "l = 2**(d+1)-2**d\n",
    "\n",
    "# a formula to calculate number of possible trees\n",
    "trees = factorial(m)/factorial(m-k)\n",
    "trees"
   ]
  },
  {
   "cell_type": "code",
   "execution_count": 4,
   "metadata": {},
   "outputs": [
    {
     "name": "stdout",
     "output_type": "stream",
     "text": [
      "factorial(m)/factorial(m - 1)\n"
     ]
    }
   ],
   "source": [
    "#1.How many different decision trees with depth  𝑑=1  are possible for a dataset with  𝑚  binary columns and  𝑛  rows?\n",
    "\n",
    "print(factorial(m)/factorial(-2**1 + m + 1))"
   ]
  },
  {
   "cell_type": "code",
   "execution_count": 5,
   "metadata": {},
   "outputs": [
    {
     "name": "stdout",
     "output_type": "stream",
     "text": [
      "factorial(m)/factorial(m - 3)\n"
     ]
    }
   ],
   "source": [
    "#2. How many different decision trees with depth  𝑑=2  are possible for a dataset with  𝑚  binary columns and  𝑛  rows?\n",
    "print(factorial(m)/factorial(-2**2 + m + 1))"
   ]
  },
  {
   "cell_type": "code",
   "execution_count": 6,
   "metadata": {},
   "outputs": [
    {
     "name": "stdout",
     "output_type": "stream",
     "text": [
      "factorial(m)/factorial(m - 7)\n"
     ]
    }
   ],
   "source": [
    "#3. How many different decision trees with depth  𝑑=3  are possible for a dataset with  𝑚  binary columns and  𝑛  rows?\n",
    "print(factorial(m)/factorial(-2**3 + m + 1))"
   ]
  },
  {
   "cell_type": "code",
   "execution_count": 7,
   "metadata": {},
   "outputs": [
    {
     "name": "stdout",
     "output_type": "stream",
     "text": [
      "factorial(m)/factorial(m - 15)\n"
     ]
    }
   ],
   "source": [
    "#4. How many different decision trees with depth  𝑑=4  are possible for a dataset with  𝑚  binary columns and  𝑛  rows?\n",
    "print(factorial(m)/factorial(-2**4 + m + 1))"
   ]
  },
  {
   "cell_type": "code",
   "execution_count": 8,
   "metadata": {},
   "outputs": [
    {
     "data": {
      "image/png": "[encoded data removed]",
      "text/latex": [
       "$\\displaystyle \\frac{m!}{\\left(- 2^{d} + m + 1\\right)!}$"
      ],
      "text/plain": [
       "       m!      \n",
       "───────────────\n",
       "⎛   d        ⎞ \n",
       "⎝- 2  + m + 1⎠!"
      ]
     },
     "execution_count": 8,
     "metadata": {},
     "output_type": "execute_result"
    }
   ],
   "source": [
    "#5. In general, how many different decision trees with depth  𝑑  are possible for a dataset with  𝑚  binary columns and  𝑛  rows?\n",
    "depth = factorial(m)/factorial(m-k)\n",
    "depth"
   ]
  },
  {
   "cell_type": "code",
   "execution_count": 9,
   "metadata": {},
   "outputs": [
    {
     "name": "stdout",
     "output_type": "stream",
     "text": [
      "0\n"
     ]
    }
   ],
   "source": [
    "#6. How may different decision trees are possible for  𝑚=4  and  𝑑=4 ?\n",
    "print(factorial(4)/factorial(-2**4 + 4 +1))"
   ]
  },
  {
   "cell_type": "code",
   "execution_count": 10,
   "metadata": {},
   "outputs": [
    {
     "name": "stdout",
     "output_type": "stream",
     "text": [
      "Max d where the number of nodes less than m\n",
      "log(m + 1)/log(2)\n",
      "Max d where the number of final leaves is less than n\n",
      "log(n)/log(2)\n"
     ]
    }
   ],
   "source": [
    "#7. In general, how many different decision trees of any depth are possible for a dataset with  𝑚  binary columns and  𝑛  rows?\n",
    "#first, find the max d where the number of nodes is less than m\n",
    "max_nodes = Eq(m, k)\n",
    "nodes = solve(max_nodes, d)[0]\n",
    "print('Max d where the number of nodes less than m')\n",
    "print(nodes)\n",
    "\n",
    "#secondly, the max d where the number of final leaves is less than n\n",
    "max_leaves = Eq(n, l)\n",
    "leaves = solve(max_leaves, d)[0]\n",
    "print('Max d where the number of final leaves is less than n')\n",
    "print(leaves)"
   ]
  },
  {
   "cell_type": "code",
   "execution_count": 12,
   "metadata": {},
   "outputs": [
    {
     "data": {
      "image/png": "[encoded data removed]",
      "text/plain": [
       "<Figure size 432x288 with 1 Axes>"
      ]
     },
     "metadata": {
      "needs_background": "light"
     },
     "output_type": "display_data"
    }
   ],
   "source": [
    "expr_range = (m,1,30)\n",
    "p = plot(\n",
    "    nodes,\n",
    "    expr_range,\n",
    "    show = False,\n",
    "    legend = True\n",
    ");\n",
    "\n",
    "p[0].line_color = 'g'\n",
    "\n",
    "\n",
    "p[0].label = 'max depth limited by number of columns'\n",
    "\n",
    "p.show()"
   ]
  },
  {
   "cell_type": "code",
   "execution_count": 13,
   "metadata": {},
   "outputs": [
    {
     "name": "stderr",
     "output_type": "stream",
     "text": [
      "D:\\Program Files\\New folder\\lib\\site-packages\\sympy\\plotting\\experimental_lambdify.py:233: UserWarning: The evaluation of the expression is problematic. We are trying a failback method that may still work. Please report this as a bug.\n",
      "  warnings.warn('The evaluation of the expression is'\n"
     ]
    },
    {
     "data": {
      "image/png": "[encoded data removed]",
      "text/plain": [
       "<Figure size 432x288 with 1 Axes>"
      ]
     },
     "metadata": {
      "needs_background": "light"
     },
     "output_type": "display_data"
    }
   ],
   "source": [
    "expr_range = (n,0,30)\n",
    "p = plot(\n",
    "    leaves,\n",
    "    expr_range,\n",
    "    show = False,\n",
    "    legend = True\n",
    ");\n",
    "\n",
    "p[0].line_color = 'g'\n",
    "\n",
    "p[0].label = 'max depth limited by number of rows'\n",
    "\n",
    "p.show()"
   ]
  },
  {
   "cell_type": "code",
   "execution_count": null,
   "metadata": {},
   "outputs": [],
   "source": []
  }
 ],
 "metadata": {
  "kernelspec": {
   "display_name": "Python 3",
   "language": "python",
   "name": "python3"
  },
  "language_info": {
   "codemirror_mode": {
    "name": "ipython",
    "version": 3
   },
   "file_extension": ".py",
   "mimetype": "text/x-python",
   "name": "python",
   "nbconvert_exporter": "python",
   "pygments_lexer": "ipython3",
   "version": "3.8.3"
  },
  "varInspector": {
   "cols": {
    "lenName": 16,
    "lenType": 16,
    "lenVar": 40
   },
   "kernels_config": {
    "python": {
     "delete_cmd_postfix": "",
     "delete_cmd_prefix": "del ",
     "library": "var_list.py",
     "varRefreshCmd": "print(var_dic_list())"
    },
    "r": {
     "delete_cmd_postfix": ") ",
     "delete_cmd_prefix": "rm(",
     "library": "var_list.r",
     "varRefreshCmd": "cat(var_dic_list()) "
    }
   },
   "types_to_exclude": [
    "module",
    "function",
    "builtin_function_or_method",
    "instance",
    "_Feature"
   ],
   "window_display": false
  }
 },
 "nbformat": 4,
 "nbformat_minor": 2
}
